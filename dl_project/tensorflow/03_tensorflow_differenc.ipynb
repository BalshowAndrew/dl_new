{
 "cells": [
  {
   "cell_type": "markdown",
   "id": "47559661-e6c6-4df3-9183-fd5d8dfe4df9",
   "metadata": {},
   "source": [
    "# Реализация автоматического дифференцирования"
   ]
  },
  {
   "cell_type": "code",
   "execution_count": null,
   "id": "440a6370-5ffa-4801-8dc3-5961ef579f46",
   "metadata": {},
   "outputs": [],
   "source": []
  }
 ],
 "metadata": {
  "kernelspec": {
   "display_name": "Python 3 (ipykernel)",
   "language": "python",
   "name": "python3"
  },
  "language_info": {
   "codemirror_mode": {
    "name": "ipython",
    "version": 3
   },
   "file_extension": ".py",
   "mimetype": "text/x-python",
   "name": "python",
   "nbconvert_exporter": "python",
   "pygments_lexer": "ipython3",
   "version": "3.12.2"
  }
 },
 "nbformat": 4,
 "nbformat_minor": 5
}
