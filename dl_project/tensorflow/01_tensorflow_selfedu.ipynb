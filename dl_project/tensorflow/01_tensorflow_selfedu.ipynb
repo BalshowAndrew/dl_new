{
 "cells": [
  {
   "cell_type": "markdown",
   "id": "256cb00d-16f7-431e-9d1b-a15c6d333a00",
   "metadata": {},
   "source": [
    "# Начало работы с tensorflow"
   ]
  },
  {
   "cell_type": "markdown",
   "id": "05676847-0d05-4d22-9b71-97ca305d568b",
   "metadata": {},
   "source": [
    "## Полезные ссылки:\n",
    "1. [Intriduction to Tensors](https://www.tensorflow.org/guide/tensor)\n",
    "2. [Тензоры tf.constant и tf.Variable. Индексирование и изменение формы](https://proproprogs.ru/tensorflow/tf-tenzory-tfconstant-i-tfvariable-indeksirovanie-i-izmenenie-formy)\n",
    "3. [Tensorflow 2 уроки](https://www.youtube.com/watch?v=mSDPZsyIP6Y&list=PLA0M1Bcd0w8ynD1umfubKq1OBYRXhXkmH&index=3)\n"
   ]
  },
  {
   "cell_type": "code",
   "execution_count": 1,
   "id": "1ff3dc80-4f4e-48c8-9706-9e3cb4d37f0f",
   "metadata": {},
   "outputs": [],
   "source": [
    "import os\n",
    "os.environ['TF_CPP_MIN_LOG_LEVEL'] = '2'"
   ]
  },
  {
   "cell_type": "code",
   "execution_count": 2,
   "id": "042f260c-de94-4e1a-b6d0-f502d1b90a63",
   "metadata": {},
   "outputs": [],
   "source": [
    "import tensorflow as tf\n",
    "import numpy as np"
   ]
  },
  {
   "cell_type": "markdown",
   "id": "44de2079-e190-4296-b9af-4a82ad1bfe7f",
   "metadata": {},
   "source": [
    "Во второй версии tensorflow сразу включено активное выполнение (executing_eagerly)"
   ]
  },
  {
   "cell_type": "code",
   "execution_count": 3,
   "id": "8e85d483-f37d-4000-af0c-c5288afb4bbf",
   "metadata": {},
   "outputs": [
    {
     "data": {
      "text/plain": [
       "True"
      ]
     },
     "execution_count": 3,
     "metadata": {},
     "output_type": "execute_result"
    }
   ],
   "source": [
    "tf.executing_eagerly()"
   ]
  },
  {
   "cell_type": "markdown",
   "id": "50a15925-aa66-400c-bd36-afa2d84e4655",
   "metadata": {},
   "source": [
    "## Как создать тензор?"
   ]
  },
  {
   "cell_type": "markdown",
   "id": "2b689bd6-9a6c-4f1a-916a-25e6213ee446",
   "metadata": {},
   "source": [
    "### Использовать метод tf.constant, который создает неизменяемые тензоры"
   ]
  },
  {
   "cell_type": "markdown",
   "id": "fc43a5b8-0f11-4e8d-b9e4-8b30cf376461",
   "metadata": {},
   "source": [
    "tf.constant(value, dtype=None, shape=None, name=\"Const\")\n",
    "- value - значение тензора\n",
    "- dtype - тип данных тензора\n",
    "- shape - размерность тензора\n",
    "- name - имя тензора"
   ]
  },
  {
   "cell_type": "code",
   "execution_count": 4,
   "id": "32961bf4-27b5-4a8a-be9c-c22f6d6d86f5",
   "metadata": {},
   "outputs": [
    {
     "name": "stdout",
     "output_type": "stream",
     "text": [
      "tf.Tensor(1, shape=(), dtype=int32)\n"
     ]
    }
   ],
   "source": [
    "# Задаем тензор в виде скаляра:\n",
    "a = tf.constant(1)\n",
    "print(a)"
   ]
  },
  {
   "cell_type": "markdown",
   "id": "0d36c4ef-7ece-4108-8615-7a2541f90769",
   "metadata": {},
   "source": [
    "Результат: а - это тензор, со значением 1, не имеющий размерности (осей), с типом int32"
   ]
  },
  {
   "cell_type": "code",
   "execution_count": 5,
   "id": "32cb3926-eef9-42e5-8df7-5cfd7d62b697",
   "metadata": {},
   "outputs": [
    {
     "name": "stdout",
     "output_type": "stream",
     "text": [
      "tf.Tensor([[1]], shape=(1, 1), dtype=int32)\n"
     ]
    }
   ],
   "source": [
    "# Зададим тензок в виде матрицы 1 х 1:\n",
    "a = tf.constant(1, shape=(1, 1))\n",
    "print(a)"
   ]
  },
  {
   "cell_type": "markdown",
   "id": "572d3116-fa4d-4cef-82f0-257564fe57a1",
   "metadata": {},
   "source": [
    "Результат: полученный тензок имеет две оси (его ранг равен 2)"
   ]
  },
  {
   "cell_type": "code",
   "execution_count": 6,
   "id": "39686ef9-e330-44d4-b0ff-4859aa1907b5",
   "metadata": {},
   "outputs": [
    {
     "name": "stdout",
     "output_type": "stream",
     "text": [
      "tf.Tensor(\n",
      "[[[1 1 1]\n",
      "  [1 1 1]]\n",
      "\n",
      " [[1 1 1]\n",
      "  [1 1 1]]], shape=(2, 2, 3), dtype=int32)\n"
     ]
    }
   ],
   "source": [
    "a1 = tf.constant(1, shape=(2, 2, 3))\n",
    "print(a1)"
   ]
  },
  {
   "cell_type": "code",
   "execution_count": 7,
   "id": "396c41d3-9c2e-435b-973f-31de0da26193",
   "metadata": {},
   "outputs": [
    {
     "name": "stdout",
     "output_type": "stream",
     "text": [
      "tf.Tensor([1 2 3 4], shape=(4,), dtype=int32)\n"
     ]
    }
   ],
   "source": [
    "# Зададим тензок как вектор:\n",
    "b = tf.constant([1, 2, 3, 4])\n",
    "print(b)"
   ]
  },
  {
   "cell_type": "markdown",
   "id": "a2211497-2b4b-4a6f-af09-a994afcc0fa0",
   "metadata": {},
   "source": [
    "Результат: у полученного тензора одна ось (его ранг равен 1)"
   ]
  },
  {
   "cell_type": "code",
   "execution_count": 8,
   "id": "83df1194-b869-423a-a2cb-bdc2017b0844",
   "metadata": {},
   "outputs": [
    {
     "name": "stdout",
     "output_type": "stream",
     "text": [
      "tf.Tensor(\n",
      "[[1. 2.]\n",
      " [3. 4.]\n",
      " [5. 6.]], shape=(3, 2), dtype=float16)\n"
     ]
    }
   ],
   "source": [
    "# Зададим тип данных нового тензора при его создании:\n",
    "c = tf.constant([[1, 2],\n",
    "                 [3, 4],\n",
    "                 [5, 6]], dtype=tf.float16)\n",
    "print(c)"
   ]
  },
  {
   "cell_type": "markdown",
   "id": "1e3d26bb-64f7-4a2e-8886-a905f4194ee7",
   "metadata": {},
   "source": [
    "- Тензор должен включать **только данные одного типа**!\n",
    "- Тензоры создаются на основе прямоугольных таблиц чисел (количество элементов в каждой строке должно быть одинаковым)"
   ]
  },
  {
   "cell_type": "markdown",
   "id": "92600d8b-f607-49c0-8815-1bd6288a9ed9",
   "metadata": {},
   "source": [
    "### Для создания изменяемых тензоров используется класс tf.Variable()"
   ]
  },
  {
   "cell_type": "code",
   "execution_count": 9,
   "id": "cb0b4a47-e33e-4924-80e3-c603986e8f07",
   "metadata": {},
   "outputs": [
    {
     "name": "stdout",
     "output_type": "stream",
     "text": [
      "<tf.Variable 'Variable:0' shape=() dtype=float32, numpy=-1.2>\n"
     ]
    }
   ],
   "source": [
    "# Создаем тензор на основе скаляра:\n",
    "v1 = tf.Variable(-1.2)\n",
    "print(v1)"
   ]
  },
  {
   "cell_type": "code",
   "execution_count": 10,
   "id": "10b5db40-0311-4cfb-a29e-52468568502c",
   "metadata": {},
   "outputs": [
    {
     "name": "stdout",
     "output_type": "stream",
     "text": [
      "<tf.Variable 'Variable:0' shape=(4,) dtype=float32, numpy=array([4., 5., 6., 7.], dtype=float32)>\n"
     ]
    }
   ],
   "source": [
    "# Создаем тензор на основе списка\n",
    "v2 = tf.Variable([4, 5, 6, 7], dtype=tf.float32)\n",
    "print(v2)"
   ]
  },
  {
   "cell_type": "code",
   "execution_count": 11,
   "id": "d9bc8514-9122-48ca-a76a-819bf960c5a8",
   "metadata": {},
   "outputs": [
    {
     "name": "stdout",
     "output_type": "stream",
     "text": [
      "<tf.Variable 'Variable:0' shape=(4,) dtype=int32, numpy=array([1, 2, 3, 4], dtype=int32)>\n"
     ]
    }
   ],
   "source": [
    "# Создаем тензор на основе уже существующего тензора:\n",
    "v3 = tf.Variable(b)\n",
    "print(v3)"
   ]
  },
  {
   "cell_type": "markdown",
   "id": "bc407bb5-3b3c-492a-ba7e-609fd2264193",
   "metadata": {},
   "source": [
    "## Как изменить тип данных в уже созданном тензоре?"
   ]
  },
  {
   "cell_type": "code",
   "execution_count": 12,
   "id": "37bb7d45-f582-4eeb-ae1b-d51ed103fbad",
   "metadata": {},
   "outputs": [
    {
     "name": "stdout",
     "output_type": "stream",
     "text": [
      "tf.Tensor([[1.]], shape=(1, 1), dtype=float32)\n"
     ]
    }
   ],
   "source": [
    "# Изменим тип данных уже созданного тензора:\n",
    "b2 = tf.cast(a, dtype=tf.float32)\n",
    "print(b2)"
   ]
  },
  {
   "cell_type": "markdown",
   "id": "11f410ce-40fb-4553-ba5f-292a445272f6",
   "metadata": {},
   "source": [
    "## Как преобразовать тензор в массив numpy?"
   ]
  },
  {
   "cell_type": "markdown",
   "id": "70e8c66b-f645-4d13-aa8d-d0e0877ffb9f",
   "metadata": {},
   "source": [
    "Для этого можно использовать несколько вариантов:"
   ]
  },
  {
   "cell_type": "code",
   "execution_count": 13,
   "id": "f698dfde-8fc4-4663-bf5e-e64ffb276cc3",
   "metadata": {},
   "outputs": [
    {
     "data": {
      "text/plain": [
       "array([[1., 2.],\n",
       "       [3., 4.],\n",
       "       [5., 6.]], dtype=float16)"
      ]
     },
     "execution_count": 13,
     "metadata": {},
     "output_type": "execute_result"
    }
   ],
   "source": [
    "c2 = np.array(c)\n",
    "c2"
   ]
  },
  {
   "cell_type": "code",
   "execution_count": 14,
   "id": "40cb3ce5-bba5-43a5-82e9-3dc68d1908a3",
   "metadata": {},
   "outputs": [
    {
     "data": {
      "text/plain": [
       "array([[1., 2.],\n",
       "       [3., 4.],\n",
       "       [5., 6.]], dtype=float16)"
      ]
     },
     "execution_count": 14,
     "metadata": {},
     "output_type": "execute_result"
    }
   ],
   "source": [
    "c3 = c.numpy()\n",
    "c3"
   ]
  },
  {
   "cell_type": "markdown",
   "id": "b20bd36f-caa0-4dda-93fe-15528836790b",
   "metadata": {},
   "source": [
    "## Как изменить значения в изменяемых тензорах?"
   ]
  },
  {
   "cell_type": "markdown",
   "id": "ba994052-4af9-4c22-990f-0b51f237c23d",
   "metadata": {},
   "source": [
    "### Меняем все значения"
   ]
  },
  {
   "cell_type": "code",
   "execution_count": 15,
   "id": "e74919e9-fa11-4571-9752-880f14321336",
   "metadata": {},
   "outputs": [
    {
     "name": "stdout",
     "output_type": "stream",
     "text": [
      "before: <tf.Variable 'Variable:0' shape=(4,) dtype=float32, numpy=array([4., 5., 6., 7.], dtype=float32)>\n",
      "after: <tf.Variable 'Variable:0' shape=(4,) dtype=float32, numpy=array([4., 3., 2., 1.], dtype=float32)>\n"
     ]
    }
   ],
   "source": [
    "print(f\"before: {v2}\")\n",
    "# меняем значение:\n",
    "v2.assign([4, 3, 2, 1])\n",
    "print(f\"after: {v2}\")"
   ]
  },
  {
   "cell_type": "markdown",
   "id": "47ac76b6-cacd-463a-8654-8439ff8459fb",
   "metadata": {},
   "source": [
    "Размерности передаваемых в метод **.assign** данных должны совпадать с размерностью тензора!"
   ]
  },
  {
   "cell_type": "markdown",
   "id": "712bfa26-2338-487c-b62b-06091fbf3eea",
   "metadata": {},
   "source": [
    "### Прибавляем значения к уже существующим"
   ]
  },
  {
   "cell_type": "code",
   "execution_count": 16,
   "id": "73471900-6abc-4f41-8c50-0181370e4bfc",
   "metadata": {},
   "outputs": [
    {
     "data": {
      "text/plain": [
       "<tf.Variable 'Variable:0' shape=(4,) dtype=float32, numpy=array([6., 5., 4., 3.], dtype=float32)>"
      ]
     },
     "execution_count": 16,
     "metadata": {},
     "output_type": "execute_result"
    }
   ],
   "source": [
    "v2.assign_add([2, 2, 2, 2])\n",
    "v2"
   ]
  },
  {
   "cell_type": "markdown",
   "id": "91c5ff08-291c-4664-b983-b4ae5be3e83d",
   "metadata": {},
   "source": [
    "### Вычитаем значения из уже существующих"
   ]
  },
  {
   "cell_type": "code",
   "execution_count": 17,
   "id": "f43cd11c-6e1e-42fe-85be-a957cde2023f",
   "metadata": {},
   "outputs": [
    {
     "data": {
      "text/plain": [
       "<tf.Variable 'Variable:0' shape=(4,) dtype=float32, numpy=array([ 2.,  1.,  0., -1.], dtype=float32)>"
      ]
     },
     "execution_count": 17,
     "metadata": {},
     "output_type": "execute_result"
    }
   ],
   "source": [
    "v2.assign_sub([4, 4, 4, 4])\n",
    "v2"
   ]
  },
  {
   "cell_type": "markdown",
   "id": "f6126c68-61e3-4085-9489-e46b29abd17e",
   "metadata": {},
   "source": [
    "## Как создать копую существующего тензора?"
   ]
  },
  {
   "cell_type": "code",
   "execution_count": 18,
   "id": "84622dfd-48f9-4927-a7bf-a8473228b5c3",
   "metadata": {},
   "outputs": [
    {
     "data": {
      "text/plain": [
       "<tf.Variable 'Variable:0' shape=(4,) dtype=float32, numpy=array([ 2.,  1.,  0., -1.], dtype=float32)>"
      ]
     },
     "execution_count": 18,
     "metadata": {},
     "output_type": "execute_result"
    }
   ],
   "source": [
    "v4 = tf.Variable(v2)\n",
    "v4"
   ]
  },
  {
   "cell_type": "code",
   "execution_count": 19,
   "id": "ceed2b31-55e2-43c4-91e2-e5196dda6103",
   "metadata": {},
   "outputs": [
    {
     "data": {
      "text/plain": [
       "140217361955008"
      ]
     },
     "execution_count": 19,
     "metadata": {},
     "output_type": "execute_result"
    }
   ],
   "source": [
    "id(v2)"
   ]
  },
  {
   "cell_type": "code",
   "execution_count": 20,
   "id": "7f174c96-863d-40cd-9cc7-23936aec755c",
   "metadata": {},
   "outputs": [
    {
     "data": {
      "text/plain": [
       "140217330884464"
      ]
     },
     "execution_count": 20,
     "metadata": {},
     "output_type": "execute_result"
    }
   ],
   "source": [
    "id(v4)"
   ]
  },
  {
   "cell_type": "markdown",
   "id": "e1ee27c4-e667-4c55-a004-181aed9eb8e0",
   "metadata": {},
   "source": [
    "Эти ссылки (v2 и v4) указывают на разные объекты!"
   ]
  },
  {
   "cell_type": "markdown",
   "id": "5de93947-b4cd-457f-8124-a58059b022fa",
   "metadata": {},
   "source": [
    "## Индексирование"
   ]
  },
  {
   "cell_type": "markdown",
   "id": "a361d4be-538f-4229-94d5-02860dfef4db",
   "metadata": {},
   "source": [
    "### Получение срезов"
   ]
  },
  {
   "cell_type": "code",
   "execution_count": 21,
   "id": "5202dba6-3ce3-4ce5-8ecd-ca309861ed5b",
   "metadata": {},
   "outputs": [
    {
     "data": {
      "text/plain": [
       "<tf.Tensor: shape=(3, 2), dtype=float16, numpy=\n",
       "array([[1., 2.],\n",
       "       [3., 4.],\n",
       "       [5., 6.]], dtype=float16)>"
      ]
     },
     "execution_count": 21,
     "metadata": {},
     "output_type": "execute_result"
    }
   ],
   "source": [
    "c"
   ]
  },
  {
   "cell_type": "code",
   "execution_count": 22,
   "id": "4dca7508-23a8-41db-b06b-01aaca8e9c36",
   "metadata": {},
   "outputs": [
    {
     "data": {
      "text/plain": [
       "<tf.Tensor: shape=(2,), dtype=float16, numpy=array([1., 2.], dtype=float16)>"
      ]
     },
     "execution_count": 22,
     "metadata": {},
     "output_type": "execute_result"
    }
   ],
   "source": [
    "s1 = c[0]\n",
    "s1"
   ]
  },
  {
   "cell_type": "code",
   "execution_count": 23,
   "id": "37158588-638b-4003-89dd-a2f7e4aaecc0",
   "metadata": {},
   "outputs": [
    {
     "data": {
      "text/plain": [
       "<tf.Tensor: shape=(2, 2), dtype=float16, numpy=\n",
       "array([[1., 2.],\n",
       "       [3., 4.]], dtype=float16)>"
      ]
     },
     "execution_count": 23,
     "metadata": {},
     "output_type": "execute_result"
    }
   ],
   "source": [
    "s2 = c[:2]\n",
    "s2"
   ]
  },
  {
   "cell_type": "code",
   "execution_count": 24,
   "id": "7f3b639b-a518-4aa9-8333-24d4be6bb0f9",
   "metadata": {},
   "outputs": [
    {
     "data": {
      "text/plain": [
       "<tf.Tensor: shape=(2,), dtype=float16, numpy=array([5., 6.], dtype=float16)>"
      ]
     },
     "execution_count": 24,
     "metadata": {},
     "output_type": "execute_result"
    }
   ],
   "source": [
    "s3 = c[-1]\n",
    "s3"
   ]
  },
  {
   "cell_type": "code",
   "execution_count": 25,
   "id": "470ce3c8-a27e-4b6e-8c0f-eae17cfe582d",
   "metadata": {},
   "outputs": [
    {
     "data": {
      "text/plain": [
       "<tf.Tensor: shape=(), dtype=float16, numpy=6.0>"
      ]
     },
     "execution_count": 25,
     "metadata": {},
     "output_type": "execute_result"
    }
   ],
   "source": [
    "s4 = c[(2, 1)]\n",
    "s4"
   ]
  },
  {
   "cell_type": "code",
   "execution_count": 26,
   "id": "1ecfdc57-3214-4909-8833-44f6de9a2181",
   "metadata": {},
   "outputs": [
    {
     "data": {
      "text/plain": [
       "<tf.Tensor: shape=(1,), dtype=float16, numpy=array([3.], dtype=float16)>"
      ]
     },
     "execution_count": 26,
     "metadata": {},
     "output_type": "execute_result"
    }
   ],
   "source": [
    "s5 = c[1, :1]\n",
    "s5"
   ]
  },
  {
   "cell_type": "markdown",
   "id": "0028fdbb-4f69-4df1-9ef7-373b52f4417e",
   "metadata": {},
   "source": [
    "- Срезы ссылаются на базовый тензор. Копирование данных не происходит.\n",
    "- Если изменить значения в срезе, то изменится базовый тензор.\n",
    "- При этом, само значения тензора-среза не изменится, т.к. он представляется как незменный тензор"
   ]
  },
  {
   "cell_type": "code",
   "execution_count": 27,
   "id": "ec33359e-b9de-458b-80f6-593d0b38bdd3",
   "metadata": {},
   "outputs": [],
   "source": [
    "s6 = v4[:-1]"
   ]
  },
  {
   "cell_type": "code",
   "execution_count": 28,
   "id": "252dde14-c92c-44ed-9e98-dab8207cf86d",
   "metadata": {},
   "outputs": [
    {
     "data": {
      "text/plain": [
       "<tf.Variable 'UnreadVariable' shape=(4,) dtype=float32, numpy=array([10., 10., 10., -1.], dtype=float32)>"
      ]
     },
     "execution_count": 28,
     "metadata": {},
     "output_type": "execute_result"
    }
   ],
   "source": [
    "s6.assign([10, 10, 10])"
   ]
  },
  {
   "cell_type": "code",
   "execution_count": 29,
   "id": "87128bde-ced2-4eb4-993c-5b963db78baf",
   "metadata": {},
   "outputs": [
    {
     "data": {
      "text/plain": [
       "<tf.Variable 'Variable:0' shape=(4,) dtype=float32, numpy=array([10., 10., 10., -1.], dtype=float32)>"
      ]
     },
     "execution_count": 29,
     "metadata": {},
     "output_type": "execute_result"
    }
   ],
   "source": [
    "v4"
   ]
  },
  {
   "cell_type": "code",
   "execution_count": 30,
   "id": "a4c2ee87-3099-4a24-91c3-4dc0c513edb5",
   "metadata": {},
   "outputs": [
    {
     "data": {
      "text/plain": [
       "<tf.Tensor: shape=(3,), dtype=float32, numpy=array([2., 1., 0.], dtype=float32)>"
      ]
     },
     "execution_count": 30,
     "metadata": {},
     "output_type": "execute_result"
    }
   ],
   "source": [
    "s6"
   ]
  },
  {
   "cell_type": "markdown",
   "id": "533ae513-1f2f-4f9c-a83c-7941aa66cdd8",
   "metadata": {},
   "source": [
    "### Списочное индексирование"
   ]
  },
  {
   "cell_type": "code",
   "execution_count": 31,
   "id": "62e0c53e-8c00-4080-bcdb-5997745e7aa4",
   "metadata": {},
   "outputs": [],
   "source": [
    "x = tf.constant(range(10)) + 5\n",
    "# на основе индексов 0 и 4 создаем новый тензор:\n",
    "x_indx = tf.gather(x, [0, 4])"
   ]
  },
  {
   "cell_type": "code",
   "execution_count": 32,
   "id": "4cbf1171-f5b8-4ac8-835f-efda4c990491",
   "metadata": {},
   "outputs": [
    {
     "data": {
      "text/plain": [
       "<tf.Tensor: shape=(10,), dtype=int32, numpy=array([ 5,  6,  7,  8,  9, 10, 11, 12, 13, 14], dtype=int32)>"
      ]
     },
     "execution_count": 32,
     "metadata": {},
     "output_type": "execute_result"
    }
   ],
   "source": [
    "x"
   ]
  },
  {
   "cell_type": "code",
   "execution_count": 33,
   "id": "d696f6cf-f02d-4628-86ab-8d6add94912b",
   "metadata": {},
   "outputs": [
    {
     "data": {
      "text/plain": [
       "<tf.Tensor: shape=(2,), dtype=int32, numpy=array([5, 9], dtype=int32)>"
      ]
     },
     "execution_count": 33,
     "metadata": {},
     "output_type": "execute_result"
    }
   ],
   "source": [
    "x_indx"
   ]
  },
  {
   "cell_type": "code",
   "execution_count": 34,
   "id": "07fccc85-4664-4929-997b-8fbde3f80f8a",
   "metadata": {},
   "outputs": [
    {
     "data": {
      "text/plain": [
       "<tf.Tensor: shape=(3, 3), dtype=int32, numpy=\n",
       "array([[1, 2, 7],\n",
       "       [3, 4, 8],\n",
       "       [5, 6, 9]], dtype=int32)>"
      ]
     },
     "execution_count": 34,
     "metadata": {},
     "output_type": "execute_result"
    }
   ],
   "source": [
    "x2 = tf.constant([[1, 2, 7], [3, 4, 8], [5, 6, 9]])\n",
    "x2"
   ]
  },
  {
   "cell_type": "code",
   "execution_count": 35,
   "id": "d37e7c11-c63c-4816-b29b-dbad5f5118a5",
   "metadata": {},
   "outputs": [
    {
     "data": {
      "text/plain": [
       "<tf.Tensor: shape=(), dtype=int32, numpy=8>"
      ]
     },
     "execution_count": 35,
     "metadata": {},
     "output_type": "execute_result"
    }
   ],
   "source": [
    "val_indx = x2[(1, 2)]\n",
    "val_indx"
   ]
  },
  {
   "cell_type": "markdown",
   "id": "96db8172-22ee-43b9-84f7-5aed9b5e5588",
   "metadata": {},
   "source": [
    "## Как изменить форму вектора (число элементов по осям)?"
   ]
  },
  {
   "cell_type": "code",
   "execution_count": 36,
   "id": "3d618914-8068-4abe-9e75-2a673bee2875",
   "metadata": {},
   "outputs": [
    {
     "data": {
      "text/plain": [
       "<tf.Tensor: shape=(30,), dtype=int32, numpy=\n",
       "array([ 0,  1,  2,  3,  4,  5,  6,  7,  8,  9, 10, 11, 12, 13, 14, 15, 16,\n",
       "       17, 18, 19, 20, 21, 22, 23, 24, 25, 26, 27, 28, 29], dtype=int32)>"
      ]
     },
     "execution_count": 36,
     "metadata": {},
     "output_type": "execute_result"
    }
   ],
   "source": [
    "# создадим одномерный тензор:\n",
    "a = tf.constant(range(30))\n",
    "a"
   ]
  },
  {
   "cell_type": "code",
   "execution_count": 37,
   "id": "54faf7a6-1905-456a-9770-dfa0fcd27e1b",
   "metadata": {},
   "outputs": [
    {
     "data": {
      "text/plain": [
       "<tf.Tensor: shape=(5, 6), dtype=int32, numpy=\n",
       "array([[ 0,  1,  2,  3,  4,  5],\n",
       "       [ 6,  7,  8,  9, 10, 11],\n",
       "       [12, 13, 14, 15, 16, 17],\n",
       "       [18, 19, 20, 21, 22, 23],\n",
       "       [24, 25, 26, 27, 28, 29]], dtype=int32)>"
      ]
     },
     "execution_count": 37,
     "metadata": {},
     "output_type": "execute_result"
    }
   ],
   "source": [
    "# превратим этот тензор из одномерного в двумерный:\n",
    "b = tf.reshape(a, [5, 6])\n",
    "b"
   ]
  },
  {
   "cell_type": "markdown",
   "id": "e063eff0-5ffa-46a3-bdc9-85e9ad06657a",
   "metadata": {},
   "source": [
    "- Функция **tf.reshape()** не создает новую матрицу, а меняет только форму\n",
    "- Не меняет порядок следования элементов\n",
    "- Работает очень быстро\n",
    "- Ее можно применять для тензоров большого размера"
   ]
  },
  {
   "cell_type": "code",
   "execution_count": 44,
   "id": "ea311afb-0884-466d-b5eb-36b74941bde9",
   "metadata": {},
   "outputs": [
    {
     "data": {
      "text/plain": [
       "<tf.Tensor: shape=(5, 6), dtype=int32, numpy=\n",
       "array([[ 0,  1,  2,  3,  4,  5],\n",
       "       [ 6,  7,  8,  9, 10, 11],\n",
       "       [12, 13, 14, 15, 16, 17],\n",
       "       [18, 19, 20, 21, 22, 23],\n",
       "       [24, 25, 26, 27, 28, 29]], dtype=int32)>"
      ]
     },
     "execution_count": 44,
     "metadata": {},
     "output_type": "execute_result"
    }
   ],
   "source": [
    "# по одной из осей можно не указывать размерность, и она будет вычислена автоматически\n",
    "d = tf.reshape(a, [5, -1])\n",
    "d"
   ]
  },
  {
   "cell_type": "markdown",
   "id": "b5458479-8bd6-47cb-bfa0-12b0d1385611",
   "metadata": {},
   "source": [
    "## Операция транспонирования"
   ]
  },
  {
   "cell_type": "code",
   "execution_count": 45,
   "id": "e552be96-9def-4922-99a4-7be799f1a725",
   "metadata": {},
   "outputs": [],
   "source": [
    "b_T = tf.transpose(b, perm=[1,0])"
   ]
  },
  {
   "cell_type": "code",
   "execution_count": 46,
   "id": "66f274cc-71e5-4bae-b020-15c387ac119d",
   "metadata": {},
   "outputs": [
    {
     "data": {
      "text/plain": [
       "<tf.Tensor: shape=(6, 5), dtype=int32, numpy=\n",
       "array([[ 0,  6, 12, 18, 24],\n",
       "       [ 1,  7, 13, 19, 25],\n",
       "       [ 2,  8, 14, 20, 26],\n",
       "       [ 3,  9, 15, 21, 27],\n",
       "       [ 4, 10, 16, 22, 28],\n",
       "       [ 5, 11, 17, 23, 29]], dtype=int32)>"
      ]
     },
     "execution_count": 46,
     "metadata": {},
     "output_type": "execute_result"
    }
   ],
   "source": [
    "b_T"
   ]
  },
  {
   "cell_type": "code",
   "execution_count": null,
   "id": "0304b11f-f315-41c9-8dd0-55995abc1cfc",
   "metadata": {},
   "outputs": [],
   "source": []
  }
 ],
 "metadata": {
  "kernelspec": {
   "display_name": "Python 3 (ipykernel)",
   "language": "python",
   "name": "python3"
  },
  "language_info": {
   "codemirror_mode": {
    "name": "ipython",
    "version": 3
   },
   "file_extension": ".py",
   "mimetype": "text/x-python",
   "name": "python",
   "nbconvert_exporter": "python",
   "pygments_lexer": "ipython3",
   "version": "3.12.2"
  }
 },
 "nbformat": 4,
 "nbformat_minor": 5
}
