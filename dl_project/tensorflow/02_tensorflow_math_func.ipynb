{
 "cells": [
  {
   "cell_type": "markdown",
   "id": "3f6910a6-dd71-4b39-80d8-a06199c5a93e",
   "metadata": {},
   "source": [
    "# Математические операции и функции над тензорами"
   ]
  },
  {
   "cell_type": "markdown",
   "id": "cf375ce6-3afa-4318-86fc-54c4f7920b53",
   "metadata": {},
   "source": [
    "## Полезные ссылки:\n",
    "1. [Математические операции и функции над тензорами](https://proproprogs.ru/tensorflow/tf-matematicheskie-operacii-i-funkcii-nad-tenzorami)\n",
    "2. [Tensorflow 2 уроки](https://www.youtube.com/watch?v=AzT8-K_Cvyk&list=PLA0M1Bcd0w8ynD1umfubKq1OBYRXhXkmH&index=3)"
   ]
  },
  {
   "cell_type": "code",
   "execution_count": 1,
   "id": "d0dd3477-cd3c-49cc-8e2a-fd15b5956564",
   "metadata": {},
   "outputs": [],
   "source": [
    "import os\n",
    "os.environ['TF_CPP_MIN_LOG_LEVEL'] = '2'"
   ]
  },
  {
   "cell_type": "code",
   "execution_count": 2,
   "id": "f265c1aa-613a-4676-84f0-37d560f56526",
   "metadata": {},
   "outputs": [],
   "source": [
    "import tensorflow as tf\n",
    "import numpy as np"
   ]
  },
  {
   "cell_type": "markdown",
   "id": "3f97dae1-031f-4357-8ed2-d152590bbff1",
   "metadata": {},
   "source": [
    "## Функции автозаполнения"
   ]
  },
  {
   "cell_type": "markdown",
   "id": "ceb82356-a828-45d7-8733-27ac074eed7b",
   "metadata": {},
   "source": [
    "### Создаем тензоры, состоящие из всех нулей"
   ]
  },
  {
   "cell_type": "code",
   "execution_count": 3,
   "id": "4bf48f92-f010-4ffa-9a6f-c4b2b16bb461",
   "metadata": {},
   "outputs": [
    {
     "data": {
      "text/plain": [
       "<tf.Tensor: shape=(3, 3), dtype=float32, numpy=\n",
       "array([[0., 0., 0.],\n",
       "       [0., 0., 0.],\n",
       "       [0., 0., 0.]], dtype=float32)>"
      ]
     },
     "execution_count": 3,
     "metadata": {},
     "output_type": "execute_result"
    }
   ],
   "source": [
    "a = tf.zeros((3, 3))\n",
    "a"
   ]
  },
  {
   "cell_type": "markdown",
   "id": "5b242248-1fde-48ba-b302-06695d04a91c",
   "metadata": {},
   "source": [
    "### Создаем тензоры из всех единиц"
   ]
  },
  {
   "cell_type": "code",
   "execution_count": 4,
   "id": "f38800b2-15e3-47e3-9f95-3217e86a1994",
   "metadata": {},
   "outputs": [
    {
     "data": {
      "text/plain": [
       "<tf.Tensor: shape=(5, 3), dtype=float32, numpy=\n",
       "array([[1., 1., 1.],\n",
       "       [1., 1., 1.],\n",
       "       [1., 1., 1.],\n",
       "       [1., 1., 1.],\n",
       "       [1., 1., 1.]], dtype=float32)>"
      ]
     },
     "execution_count": 4,
     "metadata": {},
     "output_type": "execute_result"
    }
   ],
   "source": [
    "b = tf.ones((5, 3))\n",
    "b"
   ]
  },
  {
   "cell_type": "markdown",
   "id": "15bd4616-f3dd-4555-b0c8-90c16cde25a6",
   "metadata": {},
   "source": [
    "### Создаем нулевые и единичные тензоры на основе других тензоров"
   ]
  },
  {
   "cell_type": "markdown",
   "id": "77521756-a612-407c-a1ef-87d0ca382ea2",
   "metadata": {},
   "source": [
    "Создадим тензор, состоящий из нулей, на основе терзора **b**:"
   ]
  },
  {
   "cell_type": "code",
   "execution_count": 7,
   "id": "28bae0bf-9d50-4aa5-a2c9-d99bfba334c0",
   "metadata": {},
   "outputs": [
    {
     "data": {
      "text/plain": [
       "<tf.Tensor: shape=(5, 3), dtype=float32, numpy=\n",
       "array([[0., 0., 0.],\n",
       "       [0., 0., 0.],\n",
       "       [0., 0., 0.],\n",
       "       [0., 0., 0.],\n",
       "       [0., 0., 0.]], dtype=float32)>"
      ]
     },
     "execution_count": 7,
     "metadata": {},
     "output_type": "execute_result"
    }
   ],
   "source": [
    "d = tf.zeros_like(b)\n",
    "d"
   ]
  },
  {
   "cell_type": "markdown",
   "id": "078aa818-f904-40f0-a823-07b26e94ed0d",
   "metadata": {},
   "source": [
    "Создадим тензор из всех единиц на основе тензора **a**:"
   ]
  },
  {
   "cell_type": "code",
   "execution_count": 6,
   "id": "ff19bc3d-b181-4616-885c-1ae86282abc1",
   "metadata": {},
   "outputs": [
    {
     "data": {
      "text/plain": [
       "<tf.Tensor: shape=(3, 3), dtype=float32, numpy=\n",
       "array([[1., 1., 1.],\n",
       "       [1., 1., 1.],\n",
       "       [1., 1., 1.]], dtype=float32)>"
      ]
     },
     "execution_count": 6,
     "metadata": {},
     "output_type": "execute_result"
    }
   ],
   "source": [
    "c = tf.ones_like(a)\n",
    "c"
   ]
  },
  {
   "cell_type": "markdown",
   "id": "57d17156-5b50-4c40-abf7-5cdd6e8294d6",
   "metadata": {},
   "source": [
    "### Создаем тензор, состоящий из единиц, распложенных по главной диагонали"
   ]
  },
  {
   "cell_type": "code",
   "execution_count": 8,
   "id": "b2f47f05-a7fe-45b0-af5a-ac0b74ee4a34",
   "metadata": {},
   "outputs": [
    {
     "data": {
      "text/plain": [
       "<tf.Tensor: shape=(3, 3), dtype=float32, numpy=\n",
       "array([[1., 0., 0.],\n",
       "       [0., 1., 0.],\n",
       "       [0., 0., 1.]], dtype=float32)>"
      ]
     },
     "execution_count": 8,
     "metadata": {},
     "output_type": "execute_result"
    }
   ],
   "source": [
    "e = tf.eye(3)\n",
    "e"
   ]
  },
  {
   "cell_type": "markdown",
   "id": "f9975a5e-40bc-41e4-b494-39a11a95a1d6",
   "metadata": {},
   "source": [
    "Не обязательно создавать квадратные матрицы:"
   ]
  },
  {
   "cell_type": "code",
   "execution_count": 10,
   "id": "0167c859-c03c-4584-bcc3-fa9a66499a4d",
   "metadata": {},
   "outputs": [
    {
     "data": {
      "text/plain": [
       "<tf.Tensor: shape=(3, 2), dtype=float32, numpy=\n",
       "array([[1., 0.],\n",
       "       [0., 1.],\n",
       "       [0., 0.]], dtype=float32)>"
      ]
     },
     "execution_count": 10,
     "metadata": {},
     "output_type": "execute_result"
    }
   ],
   "source": [
    "e = tf.eye(3, 2)\n",
    "e"
   ]
  },
  {
   "cell_type": "markdown",
   "id": "5468ddfd-95ab-41d0-abce-5576ef2156ea",
   "metadata": {},
   "source": [
    "### Создаем тензоры с заданной размерностью и заданными значениями"
   ]
  },
  {
   "cell_type": "code",
   "execution_count": 13,
   "id": "b013d803-ccf3-4c65-84fd-5334d6553251",
   "metadata": {},
   "outputs": [
    {
     "data": {
      "text/plain": [
       "<tf.Tensor: shape=(2, 3), dtype=int32, numpy=\n",
       "array([[-2, -2, -2],\n",
       "       [-2, -2, -2]], dtype=int32)>"
      ]
     },
     "execution_count": 13,
     "metadata": {},
     "output_type": "execute_result"
    }
   ],
   "source": [
    "g = tf.fill((2, 3), -2)\n",
    "g"
   ]
  },
  {
   "cell_type": "markdown",
   "id": "5dc31be0-2e65-49fa-9a3d-079de284112e",
   "metadata": {},
   "source": [
    "### Создаем копии тензоров с сохранение всех их значений"
   ]
  },
  {
   "cell_type": "code",
   "execution_count": 11,
   "id": "65398efe-d263-4482-8ee1-f8244196b47e",
   "metadata": {},
   "outputs": [
    {
     "data": {
      "text/plain": [
       "<tf.Tensor: shape=(3, 3), dtype=float32, numpy=\n",
       "array([[1., 1., 1.],\n",
       "       [1., 1., 1.],\n",
       "       [1., 1., 1.]], dtype=float32)>"
      ]
     },
     "execution_count": 11,
     "metadata": {},
     "output_type": "execute_result"
    }
   ],
   "source": [
    "f = tf.identity(c)\n",
    "f"
   ]
  },
  {
   "cell_type": "code",
   "execution_count": 12,
   "id": "b9cc9255-04c7-4062-b26d-549d89349413",
   "metadata": {},
   "outputs": [
    {
     "name": "stdout",
     "output_type": "stream",
     "text": [
      "139634042144720\n",
      "139633953638928\n"
     ]
    }
   ],
   "source": [
    "print(id(c), id(f), sep='\\n')"
   ]
  },
  {
   "cell_type": "markdown",
   "id": "0007f19f-4ca2-47e4-b446-57cafd4e889a",
   "metadata": {},
   "source": [
    "### Создаем одномерные списки в заданных интервалах"
   ]
  },
  {
   "cell_type": "code",
   "execution_count": 14,
   "id": "978b3af5-b595-462c-a67b-8745f7057bd1",
   "metadata": {},
   "outputs": [
    {
     "data": {
      "text/plain": [
       "<tf.Tensor: shape=(20,), dtype=float32, numpy=\n",
       "array([ 1. ,  1.5,  2. ,  2.5,  3. ,  3.5,  4. ,  4.5,  5. ,  5.5,  6. ,\n",
       "        6.5,  7. ,  7.5,  8. ,  8.5,  9. ,  9.5, 10. , 10.5],\n",
       "      dtype=float32)>"
      ]
     },
     "execution_count": 14,
     "metadata": {},
     "output_type": "execute_result"
    }
   ],
   "source": [
    "h = tf.range(1, 11, 0.5)\n",
    "h"
   ]
  },
  {
   "cell_type": "markdown",
   "id": "3792d37c-9198-46f0-9339-96ab8c97f46b",
   "metadata": {},
   "source": [
    "## Генерация случайных значений"
   ]
  },
  {
   "cell_type": "markdown",
   "id": "8ae8f5a6-6b37-4fb4-a185-91af37ea9850",
   "metadata": {},
   "source": [
    "### tf.random.normal()"
   ]
  },
  {
   "cell_type": "markdown",
   "id": "0ef61c9f-44f8-40b6-8fdb-f4544cac6faa",
   "metadata": {},
   "source": [
    "Возвращает тензор с нормально распределенными случайными величинами с заданным МО и СКО"
   ]
  },
  {
   "cell_type": "code",
   "execution_count": 15,
   "id": "ca503131-ad91-415a-830e-c540a83aa4d7",
   "metadata": {},
   "outputs": [
    {
     "data": {
      "text/plain": [
       "<tf.Tensor: shape=(2, 4), dtype=float32, numpy=\n",
       "array([[-0.11890186, -0.05191514, -0.02592726,  0.06438391],\n",
       "       [ 0.04679037, -0.02248388,  0.00179708,  0.14450902]],\n",
       "      dtype=float32)>"
      ]
     },
     "execution_count": 15,
     "metadata": {},
     "output_type": "execute_result"
    }
   ],
   "source": [
    "a = tf.random.normal((2, 4), 0, 0.1)\n",
    "a"
   ]
  },
  {
   "cell_type": "markdown",
   "id": "91943d37-9ddf-4aa4-bc66-c56ad69a5aa3",
   "metadata": {},
   "source": [
    "- сформирован тензор размером 2 х 4\n",
    "- с нулевым математическим ожиданием (МО) = 0\n",
    "- и среднеквадратическим отклонением (СКО) = 0,1"
   ]
  },
  {
   "cell_type": "markdown",
   "id": "ef49d5df-c100-444f-96e2-80937e77a717",
   "metadata": {},
   "source": [
    "### tf.random.truncated_normal()"
   ]
  },
  {
   "cell_type": "markdown",
   "id": "ce36819e-40d2-4f8d-943b-db3cad284ef4",
   "metadata": {},
   "source": [
    "Возвоазает тензор нормальных СВ, но в диапазоне +\\- 2-х сигм относительно МО."
   ]
  },
  {
   "cell_type": "code",
   "execution_count": 19,
   "id": "9e56df14-ca73-44d2-8645-d98e31915325",
   "metadata": {},
   "outputs": [
    {
     "data": {
      "text/plain": [
       "<tf.Tensor: shape=(2, 4), dtype=float32, numpy=\n",
       "array([[-0.1422753 , -0.1546823 ,  0.2714279 ,  0.14501382],\n",
       "       [-1.2395664 ,  0.8009103 , -0.44527927,  0.24069124]],\n",
       "      dtype=float32)>"
      ]
     },
     "execution_count": 19,
     "metadata": {},
     "output_type": "execute_result"
    }
   ],
   "source": [
    "c = tf.random.truncated_normal((2, 4), 0)\n",
    "c"
   ]
  },
  {
   "cell_type": "markdown",
   "id": "dcae1580-9a52-4a2c-bf07-bbea01de127a",
   "metadata": {},
   "source": [
    "### tf.random.uniform()"
   ]
  },
  {
   "cell_type": "markdown",
   "id": "912c150e-02e0-434d-b6bd-a3f988c1b5f0",
   "metadata": {},
   "source": [
    "Возвращает тензор с равномерным распределением в указанном интервале"
   ]
  },
  {
   "cell_type": "code",
   "execution_count": 16,
   "id": "fd4c4b4b-fac2-49a5-9043-094c80de9019",
   "metadata": {},
   "outputs": [
    {
     "data": {
      "text/plain": [
       "<tf.Tensor: shape=(2, 2), dtype=float32, numpy=\n",
       "array([[-0.8560152 ,  0.18708992],\n",
       "       [-0.71353936, -0.20316958]], dtype=float32)>"
      ]
     },
     "execution_count": 16,
     "metadata": {},
     "output_type": "execute_result"
    }
   ],
   "source": [
    "b = tf.random.uniform((2, 2), -1, 1)\n",
    "b"
   ]
  },
  {
   "cell_type": "markdown",
   "id": "20ac82ec-3499-4f47-968c-efd69ac3342a",
   "metadata": {},
   "source": [
    "### tf.shuffle()"
   ]
  },
  {
   "cell_type": "markdown",
   "id": "258b7b07-5c7b-4bb0-9110-160dc55a3076",
   "metadata": {},
   "source": [
    "Перемешивает существующие значения тензора"
   ]
  },
  {
   "cell_type": "code",
   "execution_count": 36,
   "id": "d7fc878f-9ad0-4a59-9b1a-97c986d33e4a",
   "metadata": {},
   "outputs": [
    {
     "data": {
      "text/plain": [
       "<tf.Tensor: shape=(2, 4), dtype=float32, numpy=\n",
       "array([[-1.2395664 ,  0.8009103 , -0.44527927,  0.24069124],\n",
       "       [-0.1422753 , -0.1546823 ,  0.2714279 ,  0.14501382]],\n",
       "      dtype=float32)>"
      ]
     },
     "execution_count": 36,
     "metadata": {},
     "output_type": "execute_result"
    }
   ],
   "source": [
    "b = tf.random.shuffle(c)\n",
    "b"
   ]
  },
  {
   "cell_type": "markdown",
   "id": "d99bc350-52c6-4309-9d5b-1aedb9e5b442",
   "metadata": {},
   "source": [
    "### tf.random.set_seed()"
   ]
  },
  {
   "cell_type": "markdown",
   "id": "e726ed08-a2e3-4215-8b26-83ee0c6ceac1",
   "metadata": {},
   "source": [
    "Устанавливает \"зерно\" для датчика случайных чисел"
   ]
  },
  {
   "cell_type": "code",
   "execution_count": 37,
   "id": "53db2079-fa8a-4982-8fd1-9553ff01a953",
   "metadata": {},
   "outputs": [
    {
     "data": {
      "text/plain": [
       "<tf.Tensor: shape=(1, 5), dtype=float32, numpy=\n",
       "array([[-1.110122  , -0.84542483, -0.9616356 , -1.0879657 , -0.85944796]],\n",
       "      dtype=float32)>"
      ]
     },
     "execution_count": 37,
     "metadata": {},
     "output_type": "execute_result"
    }
   ],
   "source": [
    "tf.random.set_seed(1)\n",
    "d = tf.random.truncated_normal((1, 5), -1, 0.1)\n",
    "d"
   ]
  },
  {
   "cell_type": "markdown",
   "id": "8b0ce0f6-8e25-4e49-9c64-a15921781ffa",
   "metadata": {},
   "source": [
    "## Математические функции"
   ]
  },
  {
   "cell_type": "markdown",
   "id": "7a896959-444d-4ec6-9040-8ce198685f4c",
   "metadata": {},
   "source": [
    "Описанные в этом разделе функции выполняют математические операции с тензорами поэлементно"
   ]
  },
  {
   "cell_type": "code",
   "execution_count": 38,
   "id": "0fd06f3b-8111-490c-ab45-48143871ce01",
   "metadata": {},
   "outputs": [],
   "source": [
    "# создадим два тензора:\n",
    "a = tf.constant([1, 2, 3])\n",
    "b = tf.constant([9, 8, 7])"
   ]
  },
  {
   "cell_type": "code",
   "execution_count": 39,
   "id": "954fa93b-8ef8-48e4-86ab-1a4b246612a5",
   "metadata": {},
   "outputs": [
    {
     "data": {
      "text/plain": [
       "<tf.Tensor: shape=(3,), dtype=int32, numpy=array([1, 2, 3], dtype=int32)>"
      ]
     },
     "execution_count": 39,
     "metadata": {},
     "output_type": "execute_result"
    }
   ],
   "source": [
    "a"
   ]
  },
  {
   "cell_type": "code",
   "execution_count": 40,
   "id": "e14e40e6-e8c8-42c4-b750-10e85260e06c",
   "metadata": {},
   "outputs": [
    {
     "data": {
      "text/plain": [
       "<tf.Tensor: shape=(3,), dtype=int32, numpy=array([9, 8, 7], dtype=int32)>"
      ]
     },
     "execution_count": 40,
     "metadata": {},
     "output_type": "execute_result"
    }
   ],
   "source": [
    "b"
   ]
  },
  {
   "cell_type": "markdown",
   "id": "28551ba8-9a7c-4b7e-8da5-5c60bf2dcea4",
   "metadata": {},
   "source": [
    "### Складываем тензоры между собой"
   ]
  },
  {
   "cell_type": "code",
   "execution_count": 41,
   "id": "c57f6084-cbee-4790-9f81-ca683dedf96c",
   "metadata": {},
   "outputs": [
    {
     "data": {
      "text/plain": [
       "<tf.Tensor: shape=(3,), dtype=int32, numpy=array([10, 10, 10], dtype=int32)>"
      ]
     },
     "execution_count": 41,
     "metadata": {},
     "output_type": "execute_result"
    }
   ],
   "source": [
    "tf.add(a, b)"
   ]
  },
  {
   "cell_type": "markdown",
   "id": "67c188ec-21f7-406e-b1dd-0b70c3128b8f",
   "metadata": {},
   "source": [
    "**Условие**: При складывании тензоров, их размерности должны быть согласованными"
   ]
  },
  {
   "cell_type": "code",
   "execution_count": 42,
   "id": "ecba99f7-f52f-436a-a541-ee39c6097dde",
   "metadata": {},
   "outputs": [
    {
     "data": {
      "text/plain": [
       "<tf.Tensor: shape=(3,), dtype=int32, numpy=array([10, 10, 10], dtype=int32)>"
      ]
     },
     "execution_count": 42,
     "metadata": {},
     "output_type": "execute_result"
    }
   ],
   "source": [
    "a + b"
   ]
  },
  {
   "cell_type": "markdown",
   "id": "2d591d98-cf40-49ac-a491-49469e7dcb22",
   "metadata": {},
   "source": [
    "### Вычитание одного тензора из другого"
   ]
  },
  {
   "cell_type": "code",
   "execution_count": 43,
   "id": "ce18ca69-db01-46fd-bc0d-7a7c33776836",
   "metadata": {},
   "outputs": [
    {
     "data": {
      "text/plain": [
       "<tf.Tensor: shape=(3,), dtype=int32, numpy=array([-8, -6, -4], dtype=int32)>"
      ]
     },
     "execution_count": 43,
     "metadata": {},
     "output_type": "execute_result"
    }
   ],
   "source": [
    "tf.subtract(a, b)"
   ]
  },
  {
   "cell_type": "code",
   "execution_count": 44,
   "id": "cb59a34d-06c9-463c-a94d-3ed52cc550b4",
   "metadata": {},
   "outputs": [
    {
     "data": {
      "text/plain": [
       "<tf.Tensor: shape=(3,), dtype=int32, numpy=array([-8, -6, -4], dtype=int32)>"
      ]
     },
     "execution_count": 44,
     "metadata": {},
     "output_type": "execute_result"
    }
   ],
   "source": [
    "a - b"
   ]
  },
  {
   "cell_type": "markdown",
   "id": "af5c4034-8d14-4fdf-be9b-3aa695de45d1",
   "metadata": {},
   "source": [
    "### Поэлементное деление одного тензора на другой"
   ]
  },
  {
   "cell_type": "code",
   "execution_count": 45,
   "id": "5dbcbf04-a9a3-4059-8565-bb56e1cdfc06",
   "metadata": {},
   "outputs": [
    {
     "data": {
      "text/plain": [
       "<tf.Tensor: shape=(3,), dtype=float64, numpy=array([0.11111111, 0.25      , 0.42857143])>"
      ]
     },
     "execution_count": 45,
     "metadata": {},
     "output_type": "execute_result"
    }
   ],
   "source": [
    "tf.divide(a, b)"
   ]
  },
  {
   "cell_type": "code",
   "execution_count": 46,
   "id": "1327dd8d-9ec0-4d0e-be39-7c57599d1436",
   "metadata": {},
   "outputs": [
    {
     "data": {
      "text/plain": [
       "<tf.Tensor: shape=(3,), dtype=float64, numpy=array([0.11111111, 0.25      , 0.42857143])>"
      ]
     },
     "execution_count": 46,
     "metadata": {},
     "output_type": "execute_result"
    }
   ],
   "source": [
    "a / b"
   ]
  },
  {
   "cell_type": "code",
   "execution_count": 49,
   "id": "328a7d2c-266f-43f5-b2b0-96b1526933cc",
   "metadata": {},
   "outputs": [
    {
     "data": {
      "text/plain": [
       "<tf.Tensor: shape=(3,), dtype=int32, numpy=array([0, 0, 0], dtype=int32)>"
      ]
     },
     "execution_count": 49,
     "metadata": {},
     "output_type": "execute_result"
    }
   ],
   "source": [
    "# целочисленное деление:\n",
    "a // b"
   ]
  },
  {
   "cell_type": "markdown",
   "id": "e339cf89-daf6-49a5-98ac-a2a2ec457d20",
   "metadata": {},
   "source": [
    "### Поэлементное умножение одного тензора на другой"
   ]
  },
  {
   "cell_type": "code",
   "execution_count": 50,
   "id": "598078e6-adb6-4df8-be71-ca556753b7c5",
   "metadata": {},
   "outputs": [
    {
     "data": {
      "text/plain": [
       "<tf.Tensor: shape=(3,), dtype=int32, numpy=array([ 9, 16, 21], dtype=int32)>"
      ]
     },
     "execution_count": 50,
     "metadata": {},
     "output_type": "execute_result"
    }
   ],
   "source": [
    "tf.multiply(a, b)"
   ]
  },
  {
   "cell_type": "code",
   "execution_count": 51,
   "id": "b524db99-b13d-4606-a144-134672270367",
   "metadata": {},
   "outputs": [
    {
     "data": {
      "text/plain": [
       "<tf.Tensor: shape=(3,), dtype=int32, numpy=array([ 9, 16, 21], dtype=int32)>"
      ]
     },
     "execution_count": 51,
     "metadata": {},
     "output_type": "execute_result"
    }
   ],
   "source": [
    "a * b"
   ]
  },
  {
   "cell_type": "markdown",
   "id": "8e1cec8c-c586-4aa8-a539-98eb081ad359",
   "metadata": {},
   "source": [
    "### Поэлементное возведение тензора в степень"
   ]
  },
  {
   "cell_type": "code",
   "execution_count": 52,
   "id": "e1cbf079-fd2b-4027-8c00-3d3d5d84883f",
   "metadata": {},
   "outputs": [
    {
     "data": {
      "text/plain": [
       "<tf.Tensor: shape=(3,), dtype=int32, numpy=array([1, 4, 9], dtype=int32)>"
      ]
     },
     "execution_count": 52,
     "metadata": {},
     "output_type": "execute_result"
    }
   ],
   "source": [
    "a ** 2"
   ]
  },
  {
   "cell_type": "code",
   "execution_count": 53,
   "id": "f14f8385-eb28-476b-a076-fc5170d78aaf",
   "metadata": {},
   "outputs": [
    {
     "data": {
      "text/plain": [
       "<tf.Tensor: shape=(3,), dtype=int32, numpy=array([   1,  256, 2187], dtype=int32)>"
      ]
     },
     "execution_count": 53,
     "metadata": {},
     "output_type": "execute_result"
    }
   ],
   "source": [
    "a ** b"
   ]
  },
  {
   "cell_type": "markdown",
   "id": "08f0b25d-a183-424d-8780-273cab574941",
   "metadata": {},
   "source": [
    "## Векторное умножение"
   ]
  },
  {
   "cell_type": "markdown",
   "id": "1fe34e1f-0f25-46f2-9136-11728180f97b",
   "metadata": {},
   "source": [
    "### Внешнее векторное умножение"
   ]
  },
  {
   "cell_type": "code",
   "execution_count": 56,
   "id": "0c890246-4c48-482a-a716-61c6880064dd",
   "metadata": {},
   "outputs": [
    {
     "data": {
      "text/plain": [
       "<tf.Tensor: shape=(3, 3), dtype=int32, numpy=\n",
       "array([[ 9,  8,  7],\n",
       "       [18, 16, 14],\n",
       "       [27, 24, 21]], dtype=int32)>"
      ]
     },
     "execution_count": 56,
     "metadata": {},
     "output_type": "execute_result"
    }
   ],
   "source": [
    "tf.tensordot(a, b, axes=0)"
   ]
  },
  {
   "cell_type": "markdown",
   "id": "b378b1e6-2085-47f5-a29d-c473b7bb07ff",
   "metadata": {},
   "source": [
    "- Для векторов **axes** должно быть равно **0**\n",
    "- На выходе получаем **матрицу**"
   ]
  },
  {
   "cell_type": "markdown",
   "id": "55d5f2e6-a78a-4978-b094-e19cdb87aeb7",
   "metadata": {},
   "source": [
    "### Внутреннее векторное умножение"
   ]
  },
  {
   "cell_type": "code",
   "execution_count": 58,
   "id": "bfba2dbf-4185-416e-995c-361d0c757fe9",
   "metadata": {},
   "outputs": [
    {
     "data": {
      "text/plain": [
       "<tf.Tensor: shape=(), dtype=int32, numpy=46>"
      ]
     },
     "execution_count": 58,
     "metadata": {},
     "output_type": "execute_result"
    }
   ],
   "source": [
    "tf.tensordot(a, b, axes=1)"
   ]
  },
  {
   "cell_type": "markdown",
   "id": "820e6165-5e8a-4777-8870-b1742bf91839",
   "metadata": {},
   "source": [
    "- Для векторов **axes** должно быть равно **1**\n",
    "- На выходе получаем **одно число**"
   ]
  },
  {
   "cell_type": "markdown",
   "id": "9d087173-3b93-4795-983b-b01cf16612f3",
   "metadata": {},
   "source": [
    "## Матричное умножение"
   ]
  },
  {
   "cell_type": "code",
   "execution_count": 59,
   "id": "9124b304-c287-4a8d-8cc1-84dd84c1975b",
   "metadata": {},
   "outputs": [],
   "source": [
    "# создадим тензоры-матрицы:\n",
    "a2 = tf.constant(tf.range(1, 10), shape=(3, 3))\n",
    "b2 = tf.constant(tf.range(5, 14), shape=(3, 3))"
   ]
  },
  {
   "cell_type": "code",
   "execution_count": 62,
   "id": "cd83ea04-99ec-4f83-b070-6f3f1296250d",
   "metadata": {},
   "outputs": [
    {
     "data": {
      "text/plain": [
       "<tf.Tensor: shape=(3, 3), dtype=int32, numpy=\n",
       "array([[1, 2, 3],\n",
       "       [4, 5, 6],\n",
       "       [7, 8, 9]], dtype=int32)>"
      ]
     },
     "execution_count": 62,
     "metadata": {},
     "output_type": "execute_result"
    }
   ],
   "source": [
    "a2"
   ]
  },
  {
   "cell_type": "code",
   "execution_count": 63,
   "id": "ed9470d6-2a67-480e-98a1-e32e0f5c2ff1",
   "metadata": {},
   "outputs": [
    {
     "data": {
      "text/plain": [
       "<tf.Tensor: shape=(3, 3), dtype=int32, numpy=\n",
       "array([[ 5,  6,  7],\n",
       "       [ 8,  9, 10],\n",
       "       [11, 12, 13]], dtype=int32)>"
      ]
     },
     "execution_count": 63,
     "metadata": {},
     "output_type": "execute_result"
    }
   ],
   "source": [
    "b2"
   ]
  },
  {
   "cell_type": "code",
   "execution_count": 61,
   "id": "a42c01cb-9830-458e-a47c-944340d0d8b1",
   "metadata": {},
   "outputs": [
    {
     "data": {
      "text/plain": [
       "<tf.Tensor: shape=(3, 3), dtype=int32, numpy=\n",
       "array([[ 54,  60,  66],\n",
       "       [126, 141, 156],\n",
       "       [198, 222, 246]], dtype=int32)>"
      ]
     },
     "execution_count": 61,
     "metadata": {},
     "output_type": "execute_result"
    }
   ],
   "source": [
    "tf.matmul(a2, b2)"
   ]
  },
  {
   "cell_type": "code",
   "execution_count": 64,
   "id": "a9af35e7-9ed1-42e7-9422-4f3dfd362949",
   "metadata": {},
   "outputs": [
    {
     "data": {
      "text/plain": [
       "<tf.Tensor: shape=(3, 3), dtype=int32, numpy=\n",
       "array([[ 54,  60,  66],\n",
       "       [126, 141, 156],\n",
       "       [198, 222, 246]], dtype=int32)>"
      ]
     },
     "execution_count": 64,
     "metadata": {},
     "output_type": "execute_result"
    }
   ],
   "source": [
    "a2 @ b2"
   ]
  },
  {
   "cell_type": "markdown",
   "id": "3e67ece9-e3cd-4b03-a2d2-61540ff44a68",
   "metadata": {},
   "source": [
    "## Стандартные математические функции"
   ]
  },
  {
   "cell_type": "code",
   "execution_count": 65,
   "id": "8f45794b-cd7a-4663-8648-30c2fd3b0a25",
   "metadata": {},
   "outputs": [
    {
     "data": {
      "text/plain": [
       "<tf.Tensor: shape=(3, 3), dtype=int32, numpy=\n",
       "array([[ 9,  8,  7],\n",
       "       [18, 16, 14],\n",
       "       [27, 24, 21]], dtype=int32)>"
      ]
     },
     "execution_count": 65,
     "metadata": {},
     "output_type": "execute_result"
    }
   ],
   "source": [
    "# зададим матрицу m:\n",
    "m = tf.tensordot(a, b, axes=0)\n",
    "m"
   ]
  },
  {
   "cell_type": "markdown",
   "id": "faff22ea-0c8d-4905-90f5-b326569fcf41",
   "metadata": {},
   "source": [
    "### Сумма значений всех элементов матрицы **m**"
   ]
  },
  {
   "cell_type": "code",
   "execution_count": 66,
   "id": "f21498e9-5b06-43ba-a37f-052109534662",
   "metadata": {},
   "outputs": [
    {
     "data": {
      "text/plain": [
       "<tf.Tensor: shape=(), dtype=int32, numpy=144>"
      ]
     },
     "execution_count": 66,
     "metadata": {},
     "output_type": "execute_result"
    }
   ],
   "source": [
    "tf.reduce_sum(m)"
   ]
  },
  {
   "cell_type": "markdown",
   "id": "c3d468c8-d73b-4ffd-9ce7-8bc5494f0ea0",
   "metadata": {},
   "source": [
    "### Суммирование значений матрицы по столбцам"
   ]
  },
  {
   "cell_type": "code",
   "execution_count": 67,
   "id": "ef2760a6-cdf4-4452-bd98-498a1e5a8d4e",
   "metadata": {},
   "outputs": [
    {
     "data": {
      "text/plain": [
       "<tf.Tensor: shape=(3,), dtype=int32, numpy=array([54, 48, 42], dtype=int32)>"
      ]
     },
     "execution_count": 67,
     "metadata": {},
     "output_type": "execute_result"
    }
   ],
   "source": [
    "tf.reduce_sum(m, axis=0)"
   ]
  },
  {
   "cell_type": "markdown",
   "id": "8fe70d55-7b6c-4c43-911c-aeb2f3a27949",
   "metadata": {},
   "source": [
    "**axis=0** означает, что мы берем каждую строку матрицы и поочередно и суммируем между собой"
   ]
  },
  {
   "cell_type": "markdown",
   "id": "3eced51c-66f3-4f67-bf63-40e9f4dd65a3",
   "metadata": {},
   "source": [
    "### Суммпрование значений матрицы по строкам"
   ]
  },
  {
   "cell_type": "code",
   "execution_count": 68,
   "id": "3b6b66a8-af8f-47e3-96e9-13aa98559978",
   "metadata": {},
   "outputs": [
    {
     "data": {
      "text/plain": [
       "<tf.Tensor: shape=(3,), dtype=int32, numpy=array([24, 48, 72], dtype=int32)>"
      ]
     },
     "execution_count": 68,
     "metadata": {},
     "output_type": "execute_result"
    }
   ],
   "source": [
    "tf.reduce_sum(m, axis=1)"
   ]
  },
  {
   "cell_type": "markdown",
   "id": "80858723-fa27-4b7e-a311-1f2279c86321",
   "metadata": {},
   "source": [
    ">[!note]\n",
    "> Если указать в виде словаря сразу несколько осей, то суммирование будет происходить по ним"
   ]
  },
  {
   "cell_type": "code",
   "execution_count": 69,
   "id": "6fce7961-521b-4550-a874-f847a20ddd6e",
   "metadata": {},
   "outputs": [
    {
     "data": {
      "text/plain": [
       "<tf.Tensor: shape=(), dtype=int32, numpy=144>"
      ]
     },
     "execution_count": 69,
     "metadata": {},
     "output_type": "execute_result"
    }
   ],
   "source": [
    "tf.reduce_sum(m, axis=[0, 1])"
   ]
  },
  {
   "cell_type": "markdown",
   "id": "b296654b-925f-402f-83a5-bb0901b5068e",
   "metadata": {},
   "source": [
    "В результате получилось суммирование всех значений матрицы"
   ]
  },
  {
   "cell_type": "markdown",
   "id": "9dce98ac-5895-4da3-93eb-1a991499044e",
   "metadata": {},
   "source": [
    "### Вычисление среднего арифметического значений тензора"
   ]
  },
  {
   "cell_type": "code",
   "execution_count": 72,
   "id": "8527226c-8184-461f-bf3a-9cc5ea2b2ad8",
   "metadata": {},
   "outputs": [
    {
     "data": {
      "text/plain": [
       "<tf.Tensor: shape=(3, 3), dtype=int32, numpy=\n",
       "array([[ 9,  8,  7],\n",
       "       [18, 16, 14],\n",
       "       [27, 24, 21]], dtype=int32)>"
      ]
     },
     "execution_count": 72,
     "metadata": {},
     "output_type": "execute_result"
    }
   ],
   "source": [
    "m"
   ]
  },
  {
   "cell_type": "code",
   "execution_count": 71,
   "id": "e96ac0e2-8e4d-41e5-9a3b-7372ae1929f5",
   "metadata": {},
   "outputs": [
    {
     "data": {
      "text/plain": [
       "<tf.Tensor: shape=(), dtype=int32, numpy=16>"
      ]
     },
     "execution_count": 71,
     "metadata": {},
     "output_type": "execute_result"
    }
   ],
   "source": [
    "# среднее арифметическое всех значений матрицы:\n",
    "tf.reduce_mean(m)"
   ]
  },
  {
   "cell_type": "code",
   "execution_count": 73,
   "id": "22d1a66c-5e34-4da8-9205-26d3a05f78a6",
   "metadata": {},
   "outputs": [
    {
     "data": {
      "text/plain": [
       "<tf.Tensor: shape=(3,), dtype=int32, numpy=array([18, 16, 14], dtype=int32)>"
      ]
     },
     "execution_count": 73,
     "metadata": {},
     "output_type": "execute_result"
    }
   ],
   "source": [
    "# среднее арифметическое по столбцам:\n",
    "tf.reduce_mean(m, axis=0)"
   ]
  },
  {
   "cell_type": "code",
   "execution_count": 74,
   "id": "54769fdd-4707-47d4-b105-31968e7f3c13",
   "metadata": {},
   "outputs": [
    {
     "data": {
      "text/plain": [
       "<tf.Tensor: shape=(3,), dtype=int32, numpy=array([ 8, 16, 24], dtype=int32)>"
      ]
     },
     "execution_count": 74,
     "metadata": {},
     "output_type": "execute_result"
    }
   ],
   "source": [
    "# среднее арифметическое по строкам:\n",
    "tf.reduce_mean(m, axis=1)"
   ]
  },
  {
   "cell_type": "markdown",
   "id": "8e06bbef-4609-4702-a962-9a351da2429b",
   "metadata": {},
   "source": [
    "### Вычисление максимального и минимального значений матрицы"
   ]
  },
  {
   "cell_type": "code",
   "execution_count": 77,
   "id": "f1ff08b1-142d-4382-b39f-33de0cedaa2c",
   "metadata": {},
   "outputs": [
    {
     "data": {
      "text/plain": [
       "<tf.Tensor: shape=(3, 3), dtype=int32, numpy=\n",
       "array([[ 9,  8,  7],\n",
       "       [18, 16, 14],\n",
       "       [27, 24, 21]], dtype=int32)>"
      ]
     },
     "execution_count": 77,
     "metadata": {},
     "output_type": "execute_result"
    }
   ],
   "source": [
    "m"
   ]
  },
  {
   "cell_type": "code",
   "execution_count": 75,
   "id": "b1c61976-67f6-4654-9245-3964ba294795",
   "metadata": {},
   "outputs": [
    {
     "data": {
      "text/plain": [
       "<tf.Tensor: shape=(), dtype=int32, numpy=27>"
      ]
     },
     "execution_count": 75,
     "metadata": {},
     "output_type": "execute_result"
    }
   ],
   "source": [
    "tf.reduce_max(m)"
   ]
  },
  {
   "cell_type": "code",
   "execution_count": 76,
   "id": "384b1e38-dcc9-4e9d-8a42-54c1148ea177",
   "metadata": {},
   "outputs": [
    {
     "data": {
      "text/plain": [
       "<tf.Tensor: shape=(), dtype=int32, numpy=7>"
      ]
     },
     "execution_count": 76,
     "metadata": {},
     "output_type": "execute_result"
    }
   ],
   "source": [
    "tf.reduce_min(m)"
   ]
  },
  {
   "cell_type": "markdown",
   "id": "0847455f-4a57-486e-9ec9-3817cac2e800",
   "metadata": {},
   "source": [
    ">[!note]\n",
    ">Аналогичным образом все эти функции работают с разными осями"
   ]
  },
  {
   "cell_type": "code",
   "execution_count": 78,
   "id": "4618e2bb-a19f-4aef-8688-e8f2155b6929",
   "metadata": {},
   "outputs": [
    {
     "data": {
      "text/plain": [
       "<tf.Tensor: shape=(3,), dtype=int32, numpy=array([27, 24, 21], dtype=int32)>"
      ]
     },
     "execution_count": 78,
     "metadata": {},
     "output_type": "execute_result"
    }
   ],
   "source": [
    "# максимум по столбцам\n",
    "tf.reduce_max(m, axis=0)"
   ]
  },
  {
   "cell_type": "code",
   "execution_count": 79,
   "id": "292fc629-4ec7-4cfb-8424-4994207c0858",
   "metadata": {},
   "outputs": [
    {
     "data": {
      "text/plain": [
       "<tf.Tensor: shape=(3,), dtype=int32, numpy=array([ 7, 14, 21], dtype=int32)>"
      ]
     },
     "execution_count": 79,
     "metadata": {},
     "output_type": "execute_result"
    }
   ],
   "source": [
    "# минимум по строкам\n",
    "tf.reduce_min(m, axis=1)"
   ]
  },
  {
   "cell_type": "markdown",
   "id": "5cea2ef2-c32d-43ff-8f96-847e80f6d3b1",
   "metadata": {},
   "source": [
    "### Вычисление произведения элементов матрицы"
   ]
  },
  {
   "cell_type": "code",
   "execution_count": 80,
   "id": "d6deca0f-94c6-474f-85d4-32eaf9fd5588",
   "metadata": {},
   "outputs": [
    {
     "data": {
      "text/plain": [
       "<tf.Tensor: shape=(), dtype=int32, numpy=1883394048>"
      ]
     },
     "execution_count": 80,
     "metadata": {},
     "output_type": "execute_result"
    }
   ],
   "source": [
    "tf.reduce_prod(m)"
   ]
  },
  {
   "cell_type": "code",
   "execution_count": 83,
   "id": "f3cd1aff-3121-4e0e-9ded-93edeaf542a3",
   "metadata": {},
   "outputs": [
    {
     "data": {
      "text/plain": [
       "<tf.Tensor: shape=(3,), dtype=int32, numpy=array([4374, 3072, 2058], dtype=int32)>"
      ]
     },
     "execution_count": 83,
     "metadata": {},
     "output_type": "execute_result"
    }
   ],
   "source": [
    "# по столбцам\n",
    "tf.reduce_prod(m, axis=0)"
   ]
  },
  {
   "cell_type": "code",
   "execution_count": 84,
   "id": "65a29562-c54e-478f-aa9b-22d2d8c97dd4",
   "metadata": {},
   "outputs": [
    {
     "data": {
      "text/plain": [
       "<tf.Tensor: shape=(3,), dtype=int32, numpy=array([  504,  4032, 13608], dtype=int32)>"
      ]
     },
     "execution_count": 84,
     "metadata": {},
     "output_type": "execute_result"
    }
   ],
   "source": [
    "# по строкам\n",
    "tf.reduce_prod(m, axis=1)"
   ]
  },
  {
   "cell_type": "markdown",
   "id": "726a36ef-85f1-4b34-9a79-9613e22add13",
   "metadata": {},
   "source": [
    "### Вычисляем корень квадратный элементов тензора"
   ]
  },
  {
   "cell_type": "code",
   "execution_count": 86,
   "id": "13e3738f-28cd-4fb9-afb3-3627489100a0",
   "metadata": {},
   "outputs": [
    {
     "data": {
      "text/plain": [
       "<tf.Tensor: shape=(3, 3), dtype=int32, numpy=\n",
       "array([[ 9,  8,  7],\n",
       "       [18, 16, 14],\n",
       "       [27, 24, 21]], dtype=int32)>"
      ]
     },
     "execution_count": 86,
     "metadata": {},
     "output_type": "execute_result"
    }
   ],
   "source": [
    "m"
   ]
  },
  {
   "cell_type": "code",
   "execution_count": 85,
   "id": "fe5bbecf-b1df-4188-a88f-cbc92f812768",
   "metadata": {},
   "outputs": [
    {
     "data": {
      "text/plain": [
       "<tf.Tensor: shape=(3, 3), dtype=float32, numpy=\n",
       "array([[3.       , 2.828427 , 2.6457512],\n",
       "       [4.2426405, 4.       , 3.7416575],\n",
       "       [5.196152 , 4.8989797, 4.582576 ]], dtype=float32)>"
      ]
     },
     "execution_count": 85,
     "metadata": {},
     "output_type": "execute_result"
    }
   ],
   "source": [
    "tf.sqrt(tf.cast(m, dtype=tf.float32))"
   ]
  },
  {
   "cell_type": "markdown",
   "id": "347bc73c-d653-46d9-95dd-d2b45e5c79d7",
   "metadata": {},
   "source": [
    "**Условие**: значения тензора должны быть **вещественными**"
   ]
  },
  {
   "cell_type": "markdown",
   "id": "75323068-ba04-4452-94ac-522f75dd7f85",
   "metadata": {},
   "source": [
    "### Возведение значений тензора в квадрат"
   ]
  },
  {
   "cell_type": "code",
   "execution_count": 87,
   "id": "f76235f9-c289-4796-98cb-adc909abb255",
   "metadata": {},
   "outputs": [
    {
     "data": {
      "text/plain": [
       "<tf.Tensor: shape=(3, 3), dtype=int32, numpy=\n",
       "array([[ 81,  64,  49],\n",
       "       [324, 256, 196],\n",
       "       [729, 576, 441]], dtype=int32)>"
      ]
     },
     "execution_count": 87,
     "metadata": {},
     "output_type": "execute_result"
    }
   ],
   "source": [
    "tf.square(m)"
   ]
  },
  {
   "cell_type": "markdown",
   "id": "ad435f72-2dcb-4deb-bd0c-143e7d442de3",
   "metadata": {},
   "source": [
    "### Тригонометрические функции"
   ]
  },
  {
   "cell_type": "code",
   "execution_count": 90,
   "id": "5a5d2d8e-74f9-4088-9762-b34f83280f9d",
   "metadata": {},
   "outputs": [
    {
     "data": {
      "text/plain": [
       "<tf.Tensor: shape=(7,), dtype=float32, numpy=\n",
       "array([-3.14     , -2.14     , -1.1400001, -0.1400001,  0.8599999,\n",
       "        1.8599999,  2.86     ], dtype=float32)>"
      ]
     },
     "execution_count": 90,
     "metadata": {},
     "output_type": "execute_result"
    }
   ],
   "source": [
    "k = tf.range(-3.14, 3.14, 1)\n",
    "k"
   ]
  },
  {
   "cell_type": "code",
   "execution_count": 91,
   "id": "c049668b-5f0a-4599-adb0-27c7534642f5",
   "metadata": {},
   "outputs": [
    {
     "data": {
      "text/plain": [
       "<tf.Tensor: shape=(7,), dtype=float32, numpy=\n",
       "array([-0.00159255, -0.8423304 , -0.90863353, -0.13954322,  0.7578425 ,\n",
       "        0.9584713 ,  0.27788603], dtype=float32)>"
      ]
     },
     "execution_count": 91,
     "metadata": {},
     "output_type": "execute_result"
    }
   ],
   "source": [
    "tf.sin(k)"
   ]
  },
  {
   "cell_type": "code",
   "execution_count": 92,
   "id": "198633da-9982-4cb3-ad26-fa0258f10b60",
   "metadata": {},
   "outputs": [
    {
     "data": {
      "text/plain": [
       "<tf.Tensor: shape=(7,), dtype=float32, numpy=\n",
       "array([-0.99999875, -0.5389615 ,  0.4175944 ,  0.99021596,  0.65243757,\n",
       "       -0.28518897, -0.960614  ], dtype=float32)>"
      ]
     },
     "execution_count": 92,
     "metadata": {},
     "output_type": "execute_result"
    }
   ],
   "source": [
    "tf.cos(k)"
   ]
  },
  {
   "cell_type": "markdown",
   "id": "de733375-6011-424f-942a-412adb2443cc",
   "metadata": {},
   "source": [
    "## Функции активации и функции потерь, используемые в нейронных сетях"
   ]
  },
  {
   "cell_type": "code",
   "execution_count": null,
   "id": "93be6e3a-a62a-4b9d-8d4b-4754b7974844",
   "metadata": {},
   "outputs": [],
   "source": []
  }
 ],
 "metadata": {
  "kernelspec": {
   "display_name": "Python 3 (ipykernel)",
   "language": "python",
   "name": "python3"
  },
  "language_info": {
   "codemirror_mode": {
    "name": "ipython",
    "version": 3
   },
   "file_extension": ".py",
   "mimetype": "text/x-python",
   "name": "python",
   "nbconvert_exporter": "python",
   "pygments_lexer": "ipython3",
   "version": "3.12.2"
  }
 },
 "nbformat": 4,
 "nbformat_minor": 5
}
